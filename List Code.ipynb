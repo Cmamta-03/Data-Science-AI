{
 "cells": [
  {
   "cell_type": "code",
   "execution_count": 53,
   "id": "7ef0e248-d95d-4d47-9fde-c76380760b81",
   "metadata": {},
   "outputs": [
    {
     "data": {
      "text/plain": [
       "'abc def ghi '"
      ]
     },
     "execution_count": 53,
     "metadata": {},
     "output_type": "execute_result"
    }
   ],
   "source": [
    "txt = \" abc def ghi \"\n",
    "txt.lstrip()"
   ]
  },
  {
   "cell_type": "code",
   "execution_count": 54,
   "id": "ef96f71c-a9e1-47de-8d61-76d4699d1688",
   "metadata": {},
   "outputs": [
    {
     "data": {
      "text/plain": [
       "'abc def ghi'"
      ]
     },
     "execution_count": 54,
     "metadata": {},
     "output_type": "execute_result"
    }
   ],
   "source": [
    "txt = \" abc def ghi \"\n",
    "txt.strip()"
   ]
  },
  {
   "cell_type": "markdown",
   "id": "16e5d94a-1d18-4f15-b690-e477c886fdba",
   "metadata": {},
   "source": [
    "# Using Eascape Character"
   ]
  },
  {
   "cell_type": "code",
   "execution_count": 55,
   "id": "27c7df92-acc1-4d69-99e2-c3db99064c6c",
   "metadata": {},
   "outputs": [
    {
     "ename": "SyntaxError",
     "evalue": "invalid syntax (534864821.py, line 2)",
     "output_type": "error",
     "traceback": [
      "\u001b[1;36m  Cell \u001b[1;32mIn[55], line 2\u001b[1;36m\u001b[0m\n\u001b[1;33m    mystr = \"My favourite series TV Series is \"Game of Thrones\"\"\u001b[0m\n\u001b[1;37m                                               ^\u001b[0m\n\u001b[1;31mSyntaxError\u001b[0m\u001b[1;31m:\u001b[0m invalid syntax\n"
     ]
    }
   ],
   "source": [
    "#using double quates in the string is not allowed\n",
    "mystr = \"My favourite series TV Series is \"Game of Thrones\"\""
   ]
  },
  {
   "cell_type": "code",
   "execution_count": 56,
   "id": "ff59137f-01e2-4363-a568-33bced7c7522",
   "metadata": {},
   "outputs": [
    {
     "name": "stdout",
     "output_type": "stream",
     "text": [
      "My favourite series TV Series is \"Game of Thrones\"\n"
     ]
    }
   ],
   "source": [
    "#using escape character to allow illegal characters\n",
    "mystr = \"My favourite series TV Series is \\\"Game of Thrones\\\"\"\n",
    "print(mystr)"
   ]
  },
  {
   "cell_type": "markdown",
   "id": "a01702af-6a2a-46e4-ab14-7bdd761b878c",
   "metadata": {},
   "source": [
    "# list"
   ]
  },
  {
   "cell_type": "markdown",
   "id": "89d8b41e-5aaf-461b-872c-717f1a09a328",
   "metadata": {},
   "source": [
    "List Creation"
   ]
  },
  {
   "cell_type": "code",
   "execution_count": 57,
   "id": "b908d75c-9c90-4137-a008-0fd8ce797cf2",
   "metadata": {},
   "outputs": [],
   "source": [
    "list1 = []   #Empty list"
   ]
  },
  {
   "cell_type": "code",
   "execution_count": 58,
   "id": "6ac20650-b087-4213-9d60-aa6297bf23de",
   "metadata": {},
   "outputs": [
    {
     "name": "stdout",
     "output_type": "stream",
     "text": [
      "<class 'list'>\n"
     ]
    }
   ],
   "source": [
    "print(type(list1))"
   ]
  },
  {
   "cell_type": "code",
   "execution_count": 59,
   "id": "a001e140-30d4-43cb-afbf-e397370494cd",
   "metadata": {},
   "outputs": [],
   "source": [
    "list2 = [10,20,30] # list of integers numbers"
   ]
  },
  {
   "cell_type": "code",
   "execution_count": 60,
   "id": "e53de86a-02c8-46a2-9fe5-c68b8b18f8f9",
   "metadata": {},
   "outputs": [],
   "source": [
    "list3 = [10,77,30.66,60.89] # list of float numbers"
   ]
  },
  {
   "cell_type": "code",
   "execution_count": 61,
   "id": "b0899595-b0ec-499c-89ac-5b0327db968e",
   "metadata": {},
   "outputs": [],
   "source": [
    "list4 = ['one', 'two', 'three'] #List of strings"
   ]
  },
  {
   "cell_type": "code",
   "execution_count": 62,
   "id": "b6bced5a-36ab-4bc5-9f88-567db89f6ccc",
   "metadata": {},
   "outputs": [],
   "source": [
    "list5 = ['Asif', 25,[ 50, 100], [ 150, 90]] #Nestad lists"
   ]
  },
  {
   "cell_type": "code",
   "execution_count": 63,
   "id": "822ca015-16c9-4d8e-bf45-2180c6b03a59",
   "metadata": {},
   "outputs": [],
   "source": [
    "list6 = [100, 'Asif', 17.765] # list of mixed data types"
   ]
  },
  {
   "cell_type": "code",
   "execution_count": 64,
   "id": "9aea4caf-b95a-4949-acd0-712faef0477c",
   "metadata": {},
   "outputs": [],
   "source": [
    "list7 = ['Asif', 25,[50, 100], [150, 90], {'john', 'Devid'}]"
   ]
  },
  {
   "cell_type": "code",
   "execution_count": 65,
   "id": "1b4ba835-36a3-4939-99b9-1ea9c1246cfa",
   "metadata": {},
   "outputs": [
    {
     "data": {
      "text/plain": [
       "3"
      ]
     },
     "execution_count": 65,
     "metadata": {},
     "output_type": "execute_result"
    }
   ],
   "source": [
    "len(list6) #length of list"
   ]
  },
  {
   "cell_type": "markdown",
   "id": "260d9998-0e0a-4a5f-8e9b-3b4b3aa34ae9",
   "metadata": {},
   "source": [
    "# List Indexing"
   ]
  },
  {
   "cell_type": "code",
   "execution_count": 66,
   "id": "39111216-5e4a-4efd-b2b8-6e672a1029c4",
   "metadata": {},
   "outputs": [
    {
     "data": {
      "text/plain": [
       "10"
      ]
     },
     "execution_count": 66,
     "metadata": {},
     "output_type": "execute_result"
    }
   ],
   "source": [
    "list2[0] #Retreive first element of the list"
   ]
  },
  {
   "cell_type": "code",
   "execution_count": 67,
   "id": "6ca2e674-7dab-4a3d-b705-59edbbb0f928",
   "metadata": {},
   "outputs": [
    {
     "data": {
      "text/plain": [
       "'one'"
      ]
     },
     "execution_count": 67,
     "metadata": {},
     "output_type": "execute_result"
    }
   ],
   "source": [
    "list4[0] #Retreive first element of the list"
   ]
  },
  {
   "cell_type": "code",
   "execution_count": 68,
   "id": "37bf089f-2247-47b6-a10b-1657fc2da4a1",
   "metadata": {},
   "outputs": [
    {
     "data": {
      "text/plain": [
       "'o'"
      ]
     },
     "execution_count": 68,
     "metadata": {},
     "output_type": "execute_result"
    }
   ],
   "source": [
    "list4[0][0] # Nested indexing - Access the first character of the first list element"
   ]
  },
  {
   "cell_type": "code",
   "execution_count": 69,
   "id": "01b2d6ee-c5b0-4a84-b3e1-3262b73cb288",
   "metadata": {},
   "outputs": [
    {
     "data": {
      "text/plain": [
       "'three'"
      ]
     },
     "execution_count": 69,
     "metadata": {},
     "output_type": "execute_result"
    }
   ],
   "source": [
    "list4[-1] #Last item of the list"
   ]
  },
  {
   "cell_type": "code",
   "execution_count": 70,
   "id": "781a1d3a-611e-4fd3-b96f-dec7756b46d8",
   "metadata": {},
   "outputs": [
    {
     "data": {
      "text/plain": [
       "[150, 90]"
      ]
     },
     "execution_count": 70,
     "metadata": {},
     "output_type": "execute_result"
    }
   ],
   "source": [
    "list5[-1] # Last item of the list"
   ]
  },
  {
   "cell_type": "markdown",
   "id": "5bce2c9d-be6b-4e2d-9680-d394b937efc8",
   "metadata": {},
   "source": [
    "List Slicing"
   ]
  },
  {
   "cell_type": "code",
   "execution_count": 141,
   "id": "f1f32b63-a9bb-4007-8856-4bf8f7301b2f",
   "metadata": {},
   "outputs": [],
   "source": [
    "mylist = ['one', 'two', 'three', 'four', 'five', 'six', 'seven', 'eight']"
   ]
  },
  {
   "cell_type": "code",
   "execution_count": 142,
   "id": "a00bc637-ef0c-4e32-94de-418836713a9a",
   "metadata": {},
   "outputs": [
    {
     "data": {
      "text/plain": [
       "['one', 'two', 'three']"
      ]
     },
     "execution_count": 142,
     "metadata": {},
     "output_type": "execute_result"
    }
   ],
   "source": [
    "mylist[0:3]\n",
    " #Return all items from 0th to 3rd index location excluding the item"
   ]
  },
  {
   "cell_type": "code",
   "execution_count": 143,
   "id": "4a8c47b9-3fe8-4d33-a13e-3672c376309b",
   "metadata": {},
   "outputs": [
    {
     "data": {
      "text/plain": [
       "['three', 'four', 'five']"
      ]
     },
     "execution_count": 143,
     "metadata": {},
     "output_type": "execute_result"
    }
   ],
   "source": [
    "mylist[2:5] #List all items from 0th to 3rd index location excluding the item a"
   ]
  },
  {
   "cell_type": "code",
   "execution_count": 144,
   "id": "a633f829-6934-4e57-9021-42fb0587dabd",
   "metadata": {},
   "outputs": [
    {
     "data": {
      "text/plain": [
       "['one', 'two', 'three']"
      ]
     },
     "execution_count": 144,
     "metadata": {},
     "output_type": "execute_result"
    }
   ],
   "source": [
    "mylist[:3] #Return first three items"
   ]
  },
  {
   "cell_type": "code",
   "execution_count": 145,
   "id": "e31d3cb8-3526-41f0-b7e2-982ace7a27b8",
   "metadata": {},
   "outputs": [
    {
     "data": {
      "text/plain": [
       "['one', 'two']"
      ]
     },
     "execution_count": 145,
     "metadata": {},
     "output_type": "execute_result"
    }
   ],
   "source": [
    "mylist[:2] #Return first two items"
   ]
  },
  {
   "cell_type": "code",
   "execution_count": 146,
   "id": "56031fea-f456-4e82-b2c9-07c612b3b4d3",
   "metadata": {},
   "outputs": [
    {
     "data": {
      "text/plain": [
       "['six', 'seven', 'eight']"
      ]
     },
     "execution_count": 146,
     "metadata": {},
     "output_type": "execute_result"
    }
   ],
   "source": [
    "mylist[-3:]"
   ]
  },
  {
   "cell_type": "code",
   "execution_count": 147,
   "id": "b12fad7c-6071-4b77-afbf-e42207db5dd1",
   "metadata": {},
   "outputs": [
    {
     "data": {
      "text/plain": [
       "['seven', 'eight']"
      ]
     },
     "execution_count": 147,
     "metadata": {},
     "output_type": "execute_result"
    }
   ],
   "source": [
    "mylist[-2:]"
   ]
  },
  {
   "cell_type": "code",
   "execution_count": 148,
   "id": "7b8e8097-0463-4a79-a4e2-7ed4902f5716",
   "metadata": {},
   "outputs": [
    {
     "data": {
      "text/plain": [
       "'eight'"
      ]
     },
     "execution_count": 148,
     "metadata": {},
     "output_type": "execute_result"
    }
   ],
   "source": [
    "mylist[-1]"
   ]
  },
  {
   "cell_type": "code",
   "execution_count": 149,
   "id": "7c8375d9-42be-4b50-8180-8596f903085d",
   "metadata": {},
   "outputs": [
    {
     "data": {
      "text/plain": [
       "['one', 'two', 'three', 'four', 'five', 'six', 'seven', 'eight']"
      ]
     },
     "execution_count": 149,
     "metadata": {},
     "output_type": "execute_result"
    }
   ],
   "source": [
    "mylist[:]"
   ]
  },
  {
   "cell_type": "markdown",
   "id": "aedcc878-b591-480c-bc24-cec86a907491",
   "metadata": {},
   "source": [
    "# Add, Remove & Change Items "
   ]
  },
  {
   "cell_type": "code",
   "execution_count": 150,
   "id": "be465215-7860-4b0b-ab2d-c92fd97f9370",
   "metadata": {},
   "outputs": [
    {
     "data": {
      "text/plain": [
       "['one', 'two', 'three', 'four', 'five', 'six', 'seven', 'eight']"
      ]
     },
     "execution_count": 150,
     "metadata": {},
     "output_type": "execute_result"
    }
   ],
   "source": [
    "mylist"
   ]
  },
  {
   "cell_type": "code",
   "execution_count": 151,
   "id": "b5c52715-6882-4fbe-8da3-aa04a4a17850",
   "metadata": {},
   "outputs": [
    {
     "data": {
      "text/plain": [
       "['one', 'two', 'three', 'four', 'five', 'six', 'seven', 'eight', 'nine']"
      ]
     },
     "execution_count": 151,
     "metadata": {},
     "output_type": "execute_result"
    }
   ],
   "source": [
    "mylist.append('nine') #Add an item to the end of the list \n",
    "mylist"
   ]
  },
  {
   "cell_type": "code",
   "execution_count": 152,
   "id": "51d8130f-3f17-468a-963d-fcc64580386a",
   "metadata": {},
   "outputs": [
    {
     "data": {
      "text/plain": [
       "['one', 'two', 'three', 'four', 'five', 'six', 'seven', 'eight', 'nine', 'ten']"
      ]
     },
     "execution_count": 152,
     "metadata": {},
     "output_type": "execute_result"
    }
   ],
   "source": [
    "mylist.insert(9, 'ten') # Add items at index Location 9\n",
    "mylist"
   ]
  },
  {
   "cell_type": "code",
   "execution_count": 153,
   "id": "e1963e0d-353a-47e3-a100-7052d9e5030a",
   "metadata": {},
   "outputs": [
    {
     "data": {
      "text/plain": [
       "['one',\n",
       " 'ONE',\n",
       " 'two',\n",
       " 'three',\n",
       " 'four',\n",
       " 'five',\n",
       " 'six',\n",
       " 'seven',\n",
       " 'eight',\n",
       " 'nine',\n",
       " 'ten']"
      ]
     },
     "execution_count": 153,
     "metadata": {},
     "output_type": "execute_result"
    }
   ],
   "source": [
    "mylist.insert(1,'ONE') #Add item at index location 1\n",
    "mylist"
   ]
  },
  {
   "cell_type": "code",
   "execution_count": 154,
   "id": "fb233dd4-d6ff-4a49-8dfb-867e229e6cdc",
   "metadata": {},
   "outputs": [
    {
     "data": {
      "text/plain": [
       "['one', 'two', 'three', 'four', 'five', 'six', 'seven', 'eight', 'nine', 'ten']"
      ]
     },
     "execution_count": 154,
     "metadata": {},
     "output_type": "execute_result"
    }
   ],
   "source": [
    "mylist.remove('ONE') #Remove item \"ONE\"\n",
    "mylist"
   ]
  },
  {
   "cell_type": "code",
   "execution_count": 155,
   "id": "27cb9be5-0866-49a1-a04d-cfe114bee6b0",
   "metadata": {},
   "outputs": [
    {
     "data": {
      "text/plain": [
       "['one', 'two', 'three', 'four', 'five', 'six', 'seven', 'eight', 'nine']"
      ]
     },
     "execution_count": 155,
     "metadata": {},
     "output_type": "execute_result"
    }
   ],
   "source": [
    "mylist.pop() #Remove last item of the list\n",
    "mylist"
   ]
  },
  {
   "cell_type": "code",
   "execution_count": 156,
   "id": "97898c87-296a-4720-99c6-f14ad2d801aa",
   "metadata": {},
   "outputs": [
    {
     "data": {
      "text/plain": [
       "['one', 'two', 'three', 'four', 'five', 'six', 'seven', 'eight']"
      ]
     },
     "execution_count": 156,
     "metadata": {},
     "output_type": "execute_result"
    }
   ],
   "source": [
    "mylist.pop(8) #Remove item at index location 8\n",
    "mylist"
   ]
  },
  {
   "cell_type": "code",
   "execution_count": 157,
   "id": "46574a78-b027-42d3-b3a0-aa8c3831ab4f",
   "metadata": {},
   "outputs": [
    {
     "data": {
      "text/plain": [
       "['one', 'two', 'three', 'four', 'five', 'six', 'seven']"
      ]
     },
     "execution_count": 157,
     "metadata": {},
     "output_type": "execute_result"
    }
   ],
   "source": [
    "del mylist[7] #Remove item at index location 7\n",
    "mylist"
   ]
  },
  {
   "cell_type": "code",
   "execution_count": 158,
   "id": "fec904ab-24d7-4c7a-b3b3-d7a4f367c6fc",
   "metadata": {},
   "outputs": [
    {
     "data": {
      "text/plain": [
       "[1, 2, 3, 'four', 'five', 'six', 'seven']"
      ]
     },
     "execution_count": 158,
     "metadata": {},
     "output_type": "execute_result"
    }
   ],
   "source": [
    "#change value of the string\n",
    "mylist[0] = 1\n",
    "mylist[1] = 2\n",
    "mylist[2] = 3\n",
    "mylist"
   ]
  },
  {
   "cell_type": "code",
   "execution_count": 159,
   "id": "55b0dcb5-5d9d-4f24-a5cc-7189a16a8e00",
   "metadata": {},
   "outputs": [
    {
     "data": {
      "text/plain": [
       "[]"
      ]
     },
     "execution_count": 159,
     "metadata": {},
     "output_type": "execute_result"
    }
   ],
   "source": [
    "mylist.clear() #Empty list / Delete all items in the list\n",
    "mylist"
   ]
  },
  {
   "cell_type": "code",
   "execution_count": 160,
   "id": "1ebd6623-0ae8-471e-bc05-06680bd0b183",
   "metadata": {},
   "outputs": [
    {
     "ename": "NameError",
     "evalue": "name 'mylist' is not defined",
     "output_type": "error",
     "traceback": [
      "\u001b[1;31m---------------------------------------------------------------------------\u001b[0m",
      "\u001b[1;31mNameError\u001b[0m                                 Traceback (most recent call last)",
      "Cell \u001b[1;32mIn[160], line 2\u001b[0m\n\u001b[0;32m      1\u001b[0m \u001b[38;5;28;01mdel\u001b[39;00m mylist \u001b[38;5;66;03m#Delete the whole list\u001b[39;00m\n\u001b[1;32m----> 2\u001b[0m mylist\n",
      "\u001b[1;31mNameError\u001b[0m: name 'mylist' is not defined"
     ]
    }
   ],
   "source": [
    "del mylist #Delete the whole list\n",
    "mylist"
   ]
  },
  {
   "cell_type": "markdown",
   "id": "eb4e613b-cba6-4088-a4cb-c9993db2bc0c",
   "metadata": {},
   "source": [
    "# copy list"
   ]
  },
  {
   "cell_type": "code",
   "execution_count": 161,
   "id": "5b4e963c-358a-4214-a87e-f2b8139109e0",
   "metadata": {},
   "outputs": [],
   "source": [
    "mylist = ['one', 'two','three', 'four', 'five', 'six', 'seven', 'eight', 'nine']"
   ]
  },
  {
   "cell_type": "code",
   "execution_count": 162,
   "id": "0e7ce718-0f52-4b83-a988-27d45a07838f",
   "metadata": {},
   "outputs": [],
   "source": [
    "mylist1 = mylist #Create a new reference \"mylist1\""
   ]
  },
  {
   "cell_type": "code",
   "execution_count": 163,
   "id": "af1b4dc1-ff19-468c-955b-2a5424559a14",
   "metadata": {},
   "outputs": [
    {
     "data": {
      "text/plain": [
       "(2263410395072, 2263410395072)"
      ]
     },
     "execution_count": 163,
     "metadata": {},
     "output_type": "execute_result"
    }
   ],
   "source": [
    "id(mylist), id(mylist1) # The address of both mylist & mylist1 will be the same"
   ]
  },
  {
   "cell_type": "code",
   "execution_count": 164,
   "id": "54534ba1-e02d-4038-80bf-db6aeafc930a",
   "metadata": {},
   "outputs": [],
   "source": [
    "mylist2 = mylist.copy() #Create a copy of the list"
   ]
  },
  {
   "cell_type": "code",
   "execution_count": 165,
   "id": "632618b0-2676-405f-b10f-08f7057608fb",
   "metadata": {},
   "outputs": [
    {
     "data": {
      "text/plain": [
       "2263368229504"
      ]
     },
     "execution_count": 165,
     "metadata": {},
     "output_type": "execute_result"
    }
   ],
   "source": [
    "id(mylist2) # The address of mylist2 will be defferent from mylist because mylist"
   ]
  },
  {
   "cell_type": "code",
   "execution_count": 167,
   "id": "85ea1463-9d17-43a1-944a-f02021248d1a",
   "metadata": {},
   "outputs": [],
   "source": [
    "mylist[0] = 1"
   ]
  },
  {
   "cell_type": "code",
   "execution_count": 168,
   "id": "04b0d85c-32e1-4666-bd03-fd1160b60e4b",
   "metadata": {},
   "outputs": [
    {
     "data": {
      "text/plain": [
       "[1, 'two', 'three', 'four', 'five', 'six', 'seven', 'eight', 'nine']"
      ]
     },
     "execution_count": 168,
     "metadata": {},
     "output_type": "execute_result"
    }
   ],
   "source": [
    "mylist"
   ]
  },
  {
   "cell_type": "code",
   "execution_count": 169,
   "id": "bdf5a9bf-b3d5-4696-a804-c4c7069247a2",
   "metadata": {},
   "outputs": [
    {
     "data": {
      "text/plain": [
       "[1, 'two', 'three', 'four', 'five', 'six', 'seven', 'eight', 'nine']"
      ]
     },
     "execution_count": 169,
     "metadata": {},
     "output_type": "execute_result"
    }
   ],
   "source": [
    "mylist1"
   ]
  },
  {
   "cell_type": "code",
   "execution_count": 170,
   "id": "8fa75d12-6aa7-4f5c-b0a6-b9e793a2a409",
   "metadata": {},
   "outputs": [
    {
     "data": {
      "text/plain": [
       "['one', 'two', 'three', 'four', 'five', 'six', 'seven', 'eight', 'nine']"
      ]
     },
     "execution_count": 170,
     "metadata": {},
     "output_type": "execute_result"
    }
   ],
   "source": [
    "mylist2"
   ]
  },
  {
   "cell_type": "markdown",
   "id": "8d627f05-5858-40ab-85ff-51629ce8f490",
   "metadata": {},
   "source": [
    "# Join Lists"
   ]
  },
  {
   "cell_type": "code",
   "execution_count": 3,
   "id": "42664485-350c-47b6-9329-ce14477f863e",
   "metadata": {},
   "outputs": [],
   "source": [
    "list1 = ['one','two','three','four']\n",
    "list2 = ['five','six','seven','eight']"
   ]
  },
  {
   "cell_type": "code",
   "execution_count": 4,
   "id": "aa6cda83-1ccf-44a5-854b-12cba1bf627b",
   "metadata": {},
   "outputs": [
    {
     "data": {
      "text/plain": [
       "['one', 'two', 'three', 'four', 'five', 'six', 'seven', 'eight']"
      ]
     },
     "execution_count": 4,
     "metadata": {},
     "output_type": "execute_result"
    }
   ],
   "source": [
    "list3 = list1 + list2\n",
    "list3"
   ]
  },
  {
   "cell_type": "code",
   "execution_count": 5,
   "id": "d5f9b22a-244e-473a-bd33-3a3e0895569e",
   "metadata": {},
   "outputs": [
    {
     "data": {
      "text/plain": [
       "['one', 'two', 'three', 'four', 'five', 'six', 'seven', 'eight']"
      ]
     },
     "execution_count": 5,
     "metadata": {},
     "output_type": "execute_result"
    }
   ],
   "source": [
    "list1.extend(list2)\n",
    "list1"
   ]
  },
  {
   "cell_type": "markdown",
   "id": "1d63c9cd-eec0-4201-9ed8-9f9f2bf58604",
   "metadata": {},
   "source": [
    "# List Membership"
   ]
  },
  {
   "cell_type": "code",
   "execution_count": 7,
   "id": "59804a73-d5da-4dba-bdc4-307e3239f2d5",
   "metadata": {},
   "outputs": [
    {
     "data": {
      "text/plain": [
       "['one', 'two', 'three', 'four', 'five', 'six', 'seven', 'eight']"
      ]
     },
     "execution_count": 7,
     "metadata": {},
     "output_type": "execute_result"
    }
   ],
   "source": [
    "list1"
   ]
  },
  {
   "cell_type": "code",
   "execution_count": 8,
   "id": "464165d9-deb0-440e-a08a-03b58eaf9693",
   "metadata": {},
   "outputs": [
    {
     "data": {
      "text/plain": [
       "True"
      ]
     },
     "execution_count": 8,
     "metadata": {},
     "output_type": "execute_result"
    }
   ],
   "source": [
    "'one' in list1"
   ]
  },
  {
   "cell_type": "code",
   "execution_count": 9,
   "id": "ce977ffa-a693-4a1b-b990-fa82e8de4176",
   "metadata": {},
   "outputs": [
    {
     "data": {
      "text/plain": [
       "False"
      ]
     },
     "execution_count": 9,
     "metadata": {},
     "output_type": "execute_result"
    }
   ],
   "source": [
    "'ten' in list1 "
   ]
  },
  {
   "cell_type": "code",
   "execution_count": 10,
   "id": "e60e0122-5040-4abe-8b52-85d00e7f7fe9",
   "metadata": {},
   "outputs": [
    {
     "name": "stdout",
     "output_type": "stream",
     "text": [
      "Three is present in the list\n"
     ]
    }
   ],
   "source": [
    "if 'three' in list1:\n",
    "    print('Three is present in the list')\n",
    "else:\n",
    "    print('Three is not present in the list')"
   ]
  },
  {
   "cell_type": "code",
   "execution_count": 11,
   "id": "179653e4-9273-4123-a38d-488248a78018",
   "metadata": {},
   "outputs": [
    {
     "name": "stdout",
     "output_type": "stream",
     "text": [
      "eleven is not present in the list\n"
     ]
    }
   ],
   "source": [
    "if 'eleven' in list1:\n",
    "    print('eleven is present in the list')\n",
    "else:\n",
    "    print('eleven is not present in the list')"
   ]
  },
  {
   "cell_type": "markdown",
   "id": "9347e515-a5c9-44c3-bcae-16551599309a",
   "metadata": {},
   "source": [
    "# Reverse & Sort List"
   ]
  },
  {
   "cell_type": "code",
   "execution_count": 12,
   "id": "6103de40-5d6c-4009-ad6a-de2270c70af3",
   "metadata": {},
   "outputs": [
    {
     "data": {
      "text/plain": [
       "['one', 'two', 'three', 'four', 'five', 'six', 'seven', 'eight']"
      ]
     },
     "execution_count": 12,
     "metadata": {},
     "output_type": "execute_result"
    }
   ],
   "source": [
    "list1"
   ]
  },
  {
   "cell_type": "code",
   "execution_count": 13,
   "id": "4fe6ba42-d4c4-4401-a718-8f333d9dd318",
   "metadata": {},
   "outputs": [
    {
     "data": {
      "text/plain": [
       "['eight', 'seven', 'six', 'five', 'four', 'three', 'two', 'one']"
      ]
     },
     "execution_count": 13,
     "metadata": {},
     "output_type": "execute_result"
    }
   ],
   "source": [
    "list1.reverse()\n",
    "list1"
   ]
  },
  {
   "cell_type": "code",
   "execution_count": 14,
   "id": "127dc33d-3211-46fb-9625-1d1f03561eab",
   "metadata": {},
   "outputs": [
    {
     "data": {
      "text/plain": [
       "[2, 5, 9, 12, 34, 88, 99]"
      ]
     },
     "execution_count": 14,
     "metadata": {},
     "output_type": "execute_result"
    }
   ],
   "source": [
    "mylist3 = [9,5,2,99,12,88,34]\n",
    "mylist3.sort()\n",
    "mylist3"
   ]
  },
  {
   "cell_type": "code",
   "execution_count": 15,
   "id": "4593132c-2876-47dd-94b8-d485711c2faf",
   "metadata": {},
   "outputs": [
    {
     "data": {
      "text/plain": [
       "[99, 88, 34, 12, 9, 5, 2]"
      ]
     },
     "execution_count": 15,
     "metadata": {},
     "output_type": "execute_result"
    }
   ],
   "source": [
    "mylist3 = [9,5,2,99,12,88,34]\n",
    "mylist3.sort(reverse = True)\n",
    "mylist3"
   ]
  },
  {
   "cell_type": "code",
   "execution_count": 16,
   "id": "45e87735-b121-442e-8814-fdfb8573424d",
   "metadata": {},
   "outputs": [
    {
     "data": {
      "text/plain": [
       "[11, 21, 33, 65, 88, 98]"
      ]
     },
     "execution_count": 16,
     "metadata": {},
     "output_type": "execute_result"
    }
   ],
   "source": [
    "mylist4 = [88,65,33,21,11,98]\n",
    "sorted(mylist4)"
   ]
  },
  {
   "cell_type": "markdown",
   "id": "0ea35797-48d0-41eb-8c34-63b2a104173c",
   "metadata": {},
   "source": [
    "# Loop Through a List"
   ]
  },
  {
   "cell_type": "code",
   "execution_count": 17,
   "id": "5ae68011-dfc8-49e5-b393-82e5743601bf",
   "metadata": {},
   "outputs": [
    {
     "data": {
      "text/plain": [
       "['eight', 'seven', 'six', 'five', 'four', 'three', 'two', 'one']"
      ]
     },
     "execution_count": 17,
     "metadata": {},
     "output_type": "execute_result"
    }
   ],
   "source": [
    "list1"
   ]
  },
  {
   "cell_type": "code",
   "execution_count": 18,
   "id": "54456a71-ae5b-41c3-a406-f90a2a94b96a",
   "metadata": {},
   "outputs": [
    {
     "name": "stdout",
     "output_type": "stream",
     "text": [
      "eight\n",
      "seven\n",
      "six\n",
      "five\n",
      "four\n",
      "three\n",
      "two\n",
      "one\n"
     ]
    }
   ],
   "source": [
    "for i in list1:\n",
    "    print(i)"
   ]
  },
  {
   "cell_type": "code",
   "execution_count": 19,
   "id": "386b8392-daab-485d-9724-8917c3d9c3f6",
   "metadata": {},
   "outputs": [
    {
     "name": "stdout",
     "output_type": "stream",
     "text": [
      "(0, 'eight')\n",
      "(1, 'seven')\n",
      "(2, 'six')\n",
      "(3, 'five')\n",
      "(4, 'four')\n",
      "(5, 'three')\n",
      "(6, 'two')\n",
      "(7, 'one')\n"
     ]
    }
   ],
   "source": [
    "for i in enumerate(list1):\n",
    "    print(i)"
   ]
  },
  {
   "cell_type": "markdown",
   "id": "c3e505c3-7d77-4fdb-9970-dae3bb9dc773",
   "metadata": {},
   "source": [
    "# Count"
   ]
  },
  {
   "cell_type": "code",
   "execution_count": 20,
   "id": "dfc2f673-cee7-4a76-8b5b-994a2685b58d",
   "metadata": {},
   "outputs": [],
   "source": [
    "list10 = ['one', 'two', 'three', 'four', 'one','one', 'two', 'three']\n"
   ]
  },
  {
   "cell_type": "code",
   "execution_count": 21,
   "id": "510c09b9-f8a6-49dc-bb9b-0de0d88bf800",
   "metadata": {},
   "outputs": [
    {
     "data": {
      "text/plain": [
       "3"
      ]
     },
     "execution_count": 21,
     "metadata": {},
     "output_type": "execute_result"
    }
   ],
   "source": [
    "list10.count('one')"
   ]
  },
  {
   "cell_type": "code",
   "execution_count": 22,
   "id": "3f883beb-441a-4d8d-bed8-7b815c333d8f",
   "metadata": {},
   "outputs": [
    {
     "data": {
      "text/plain": [
       "2"
      ]
     },
     "execution_count": 22,
     "metadata": {},
     "output_type": "execute_result"
    }
   ],
   "source": [
    "list10.count('two')"
   ]
  },
  {
   "cell_type": "code",
   "execution_count": 23,
   "id": "ec8257e6-0679-4923-8475-da53e23d0a82",
   "metadata": {},
   "outputs": [
    {
     "data": {
      "text/plain": [
       "1"
      ]
     },
     "execution_count": 23,
     "metadata": {},
     "output_type": "execute_result"
    }
   ],
   "source": [
    "list10.count('four')"
   ]
  },
  {
   "cell_type": "markdown",
   "id": "d85f2761-0e78-465b-9a3f-9e1d47eb8753",
   "metadata": {},
   "source": [
    "# All / Any"
   ]
  },
  {
   "cell_type": "code",
   "execution_count": 25,
   "id": "31129f19-6b91-44fd-8f8f-81e28e05a0ed",
   "metadata": {},
   "outputs": [],
   "source": [
    "L1 = [1,2,3,4,0]"
   ]
  },
  {
   "cell_type": "code",
   "execution_count": 26,
   "id": "68d4de1c-0193-4aca-8edd-219d7adae2b9",
   "metadata": {},
   "outputs": [
    {
     "data": {
      "text/plain": [
       "False"
      ]
     },
     "execution_count": 26,
     "metadata": {},
     "output_type": "execute_result"
    }
   ],
   "source": [
    "all(L1)"
   ]
  },
  {
   "cell_type": "code",
   "execution_count": 27,
   "id": "6a3f4bbb-2c50-4201-9446-aba9cc7a99a2",
   "metadata": {},
   "outputs": [
    {
     "data": {
      "text/plain": [
       "True"
      ]
     },
     "execution_count": 27,
     "metadata": {},
     "output_type": "execute_result"
    }
   ],
   "source": [
    "any(L1)"
   ]
  },
  {
   "cell_type": "code",
   "execution_count": 28,
   "id": "97775a3b-5a96-46b3-82cb-72ac62eb3163",
   "metadata": {},
   "outputs": [],
   "source": [
    "L2 = [1,2,3,4,True,False]"
   ]
  },
  {
   "cell_type": "code",
   "execution_count": 29,
   "id": "b918a2e2-7c69-4528-8299-e8700db11cf0",
   "metadata": {},
   "outputs": [
    {
     "data": {
      "text/plain": [
       "False"
      ]
     },
     "execution_count": 29,
     "metadata": {},
     "output_type": "execute_result"
    }
   ],
   "source": [
    "all(L2)"
   ]
  },
  {
   "cell_type": "code",
   "execution_count": 30,
   "id": "486acca3-e2cf-4261-b93b-3b091ad7dcc0",
   "metadata": {},
   "outputs": [
    {
     "data": {
      "text/plain": [
       "True"
      ]
     },
     "execution_count": 30,
     "metadata": {},
     "output_type": "execute_result"
    }
   ],
   "source": [
    "any(L2)"
   ]
  },
  {
   "cell_type": "code",
   "execution_count": 31,
   "id": "f4dd6f0c-4cc5-439c-8abd-aae612b10e37",
   "metadata": {},
   "outputs": [],
   "source": [
    "L3 = [1,2,3,True]"
   ]
  },
  {
   "cell_type": "code",
   "execution_count": 32,
   "id": "3856fb4c-f955-4fcd-912a-dcc33e43cb2e",
   "metadata": {},
   "outputs": [
    {
     "data": {
      "text/plain": [
       "True"
      ]
     },
     "execution_count": 32,
     "metadata": {},
     "output_type": "execute_result"
    }
   ],
   "source": [
    "all(L3)"
   ]
  }
 ],
 "metadata": {
  "kernelspec": {
   "display_name": "Python 3 (ipykernel)",
   "language": "python",
   "name": "python3"
  },
  "language_info": {
   "codemirror_mode": {
    "name": "ipython",
    "version": 3
   },
   "file_extension": ".py",
   "mimetype": "text/x-python",
   "name": "python",
   "nbconvert_exporter": "python",
   "pygments_lexer": "ipython3",
   "version": "3.12.7"
  }
 },
 "nbformat": 4,
 "nbformat_minor": 5
}
